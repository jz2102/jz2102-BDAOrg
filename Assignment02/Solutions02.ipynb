{
 "cells": [
  {
   "cell_type": "markdown",
   "metadata": {},
   "source": [
    "# Assignment 02\n",
    "\n",
    "**Due:** Thursday, 2020-02-13, 11:59 PM, as a Jupyter notebook submitted via your repo in the course GitHub organization (see the detailed submission instructions in our LabResources repo).  Edit the provided Solution02 notebook with your solutions.  All subproblems are worth 1 point unless otherwise noted (grading will assign fractional points as appropriate)."
   ]
  },
  {
   "cell_type": "markdown",
   "metadata": {
    "tags": [
     "points=0.5",
     "problem=1.1"
    ]
   },
   "source": [
    "### Problem 1.1 (1/2 point):\n",
    "\n",
    "> *How many possible binary logical operations are there?*  Don't just report a number; briefly explain your reasoning.\n",
    "\n",
    "Answer: There are, in total, 16 possible binary logical operations. For a binary logical operation, there are only 4 types of input, i.e. (0,0),(0,1),(1,0),(1,1), each corresponding to a binary output (either 0 or 1). Therefore, all possible outputs is given by 2^4=16."
   ]
  },
  {
   "cell_type": "markdown",
   "metadata": {
    "tags": [
     "problem=1.2",
     "points=0.5"
    ]
   },
   "source": [
    "### Problem 1.2 (1/2 point):\n",
    "\n",
    "An important result in propositional logic is that **all** possible logical operations can be expressed in terms of **NOT**, **AND**, and **OR**; one says this set of operations is *functionally complete*.  In particular, whatever your answer was for Problem 1.1, all of those binary operations can be expressed as some combination of **NOT**, **AND**, and **OR**.  This is important for probability theory, which is built on expressions for probabilities for these three operations on propositions.\n",
    "\n",
    "> *Express **XOR** in terms of **NOT**, **AND**, and **OR** (you may not need all of them).*\n",
    "\n",
    "> Present your result as a truth table similar to this:\n",
    "\n",
    "| $A$ | $B$ |   | OP1 | OP2 | ... |   | **Answer** |\n",
    "|:---:|:---:|---|:---:|:---:|:---:|---|:----------:|\n",
    "| 0   | 0   |   | ?   | ?   |     |   | 0          |\n",
    "| 0   | 1   |   | ?   | ?   |     |   | 1          |\n",
    "| 1   | 0   |   | ?   | ?   |     |   | 1          |\n",
    "| 1   | 1   |   | ?   | ?   |     |   | 0          |\n",
    "\n",
    "> Replace **OP1**, etc., with whatever operations you are composing to construct **XOR** (i.e., showing the ingredients comprising your expression), and replace **Answer** with your final expression (e.g., something like $(A\\land B)\\lor (\\overline{A\\lor B}) \\land B$, but not exactly that!).\n",
    "\n",
    "[To quickly create nice Markdown markup for the tables above, I used the [Markdown TablesGenerator](http://www.tablesgenerator.com/markdown_tables) that we used in Lab.  Feel free to use it to help with your solutions.]\n",
    "\n",
    "Answer: $A$ XOR $B$ = $(A\\lor B)\\land (\\overline{A\\land B})$\n",
    "\n",
    "| $A$ | $B$ | $A\\lor B$  | $\\overline{A\\land B}$  | **Answer** |\n",
    "|---|---|:---------:|:---------------------:|:----------:|\n",
    "| 0 | 0 | 0         | 1                     | 0          |\n",
    "| 0 | 1 | 1         | 1                     | 1          |\n",
    "| 1 | 0 | 1         | 1                     | 1          |\n",
    "| 1 | 1 | 1         | 0                     | 0          |"
   ]
  },
  {
   "cell_type": "markdown",
   "metadata": {
    "tags": [
     "problem=1.3",
     "points=1"
    ]
   },
   "source": [
    "### Problem 1.3:\n",
    "\n",
    "There are other small sets of functionally complete operations.  In fact, all possible logical operations can be expressed in terms of a **single** binary operator, which may be taken to be either **NAND** (\"*NOT* *AND*\" or \"not both,\" i.e., $\\overline{A\\land B}$) or **NOR** (\"*NOT* *OR*,\" i.e., $\\overline{A\\lor B}$, \"neither $A$ nor $B$\"), as defined in the following truth table:\n",
    "\n",
    "| $A$ | $B$ |   | $A$ NAND $B$ | $A$ NOR $B$ |\n",
    "|:---:|:---:|---|:------------:|:-----------:|\n",
    "| 0   | 0   |   | 1            | 1           |\n",
    "| 0   | 1   |   | 1            | 0           |\n",
    "| 1   | 0   |   | 1            | 0           |\n",
    "| 1   | 1   |   | 0            | 0           |\n",
    "\n",
    "> *Pick one of these operators, and express $\\overline{A}$, $A\\land B$, and $A\\lor B$ in terms of it.*  You need only present three expressions (use MathJax LaTeX); no truth tables are necessary.\n",
    "\n",
    "Answer:\n",
    "<br>\n",
    "$\\overline{A}$ = $A$ NAND $A$\n",
    "<br>\n",
    "$A\\land B$ = ($A$ NAND $B$) NAND ($A$ NAND $B$)\n",
    "<br>\n",
    "$A\\lor B$ = ($A$ NAND $A$) NAND ($B$ NAND $B$)"
   ]
  },
  {
   "cell_type": "markdown",
   "metadata": {
    "tags": [
     "problem=1.4",
     "points=1"
    ]
   },
   "source": [
    "### Problem 1.4:\n",
    "\n",
    "Digital computers are essentially propositional logic computing devices, built using \"combinational logic gate\" circuit elements that implement basic logic functions (and \"sequential logic\" elements that implement memory).  A key component of a CPU chip in a computer is an *arithmetic logic unit* (ALU) that performs arithmetic and bitwise logic operations on bits and larger groups of binary digits (*nibbles* comprised of 4 bits, *bytes* comprised of 8 bits, and *words* comprised of multiple bytes).  The ALU is built from simple gates that implement desired operations via truth table representations.  For example, the addition of the lowermost bits, $A$ and $B$, of two numbers can be expressed by the following truth table:\n",
    "\n",
    "| $A$ | $B$ |   | Sum | Carry |\n",
    "|:---:|:---:|---|:---:|:-----:|\n",
    "| 0   | 0   |   | 0   | 0     |\n",
    "| 0   | 1   |   | 1   | 0     |\n",
    "| 1   | 0   |   | 1   | 0     |\n",
    "| 1   | 1   |   | 0   | 1     |\n",
    "\n",
    "Here **Sum** denotes the first (lowermost) binary digit of the sum of $A$ and $B$, and **Carry** denotes a carry bit, indicating that $1+1=2$, or 10 in binary (the carry bit will affect the outcome of adding the next highest bits of the numbers being processed by the ALU).  Two logic functions implementing this table comprise a *half adder* (a *full adder* is a trinary operation that handles an additional carry bit input).\n",
    "\n",
    "> *Express the Sum and Carry operations in terms of **NOT**, **AND**, and **OR**.*  Show the intermediate operations in a truth table, along the lines of Problem 1.2.\n",
    "\n",
    "Answer:\n",
    "<br>\n",
    ">Sum = $A$ XOR $B$ = $(A\\lor B)\\land (\\overline{A\\land B})$\n",
    "\n",
    "| $A$ | $B$ | $A\\lor B$  | $\\overline{A\\land B}$  | **Answer** |\n",
    "|---|---|:---------:|:---------------------:|:----------:|\n",
    "| 0 | 0 | 0         | 1                     | 0          |\n",
    "| 0 | 1 | 1         | 1                     | 1          |\n",
    "| 1 | 0 | 1         | 1                     | 1          |\n",
    "| 1 | 1 | 1         | 0                     | 0          |\n",
    "<br>\n",
    ">Carry = $(A\\land B)$\n",
    "\n",
    "\n",
    "| $A$ | $B$ |$A\\land B$|\n",
    "|---|---|:---------:|\n",
    "| 0 | 0 | 0         |\n",
    "| 0 | 1 | 0         |\n",
    "| 1 | 0 | 0         |\n",
    "| 1 | 1 | 1         | "
   ]
  },
  {
   "cell_type": "markdown",
   "metadata": {
    "tags": [
     "problem=2.1",
     "points=1"
    ]
   },
   "source": [
    "### Problem 2.1:\n",
    "\n",
    "> *Using Bayes's theorem, answer the question posed in the Kahneman/Tversky problem, verifying that the typical answer is incorrect.*\n",
    "> * Specify the hypothesis space.\n",
    "> * Specify the data proposition.\n",
    "> * Calculate the posterior probabilities for the hypotheses, presenting a table that shows the prior, likelihood, prior$\\times$likelihood, and posterior probabilities for the hypotheses.\n",
    "\n",
    "Answer:\n",
    "<br>\n",
    "Hypothesis space $H$ = {$H_0$:the cab was blue, $H_1$:The cab was green\\}\n",
    "<br>\n",
    "Data proposition $D$ = witness saw the cab was blue \n",
    "<br>\n",
    "\n",
    "| $H$   | prior | Likelihood| prior x likelihood | posterior |\n",
    "|-------|---------|-------|-------------------|:-----------:|\n",
    "| $H_0$ | 0.15    | 0.8   | 0.12              | 0.41        |\n",
    "| $H_1$ | 0.85    | 0.2   | 0.17              | 0.59        |"
   ]
  },
  {
   "cell_type": "markdown",
   "metadata": {
    "tags": [
     "problem=2.2",
     "points=1"
    ]
   },
   "source": [
    "### Problem 2.2:\n",
    "\n",
    "> Briefly explain what you think the heuristic is that most people used to justify their conclusion.  Criticize it in light of the result of the calculation in Problem 2.1.\n",
    "\n",
    "Answer: I think the heuristic that most people used was to focus on how likely the witness is correct or not while ignoring the background information. If there were only 1 blue car in the city and all of the rest is green, I believe more people would pay more attention to the background infromation. What a coincidence it would be that the only cab in the city was invovled, and thus the testimony from the witness would be significantly undermined. "
   ]
  },
  {
   "cell_type": "markdown",
   "metadata": {
    "tags": [
     "problem=3.1",
     "points=1"
    ]
   },
   "source": [
    "### Problem 3.1 — Lazy Monty\n",
    "\n",
    "One of the contextual assumptions used in the lecture was that, when you have chosen the door with the prize behind it, Monty will open one of the other doors by choosing one of them randomly, with equal probability. Here, consider slightly different contextual information, $\\mathcal{C}'$, that specifies probabilities $q_2$ and $q_3 = 1-q_2$ that Monty will pick door 2 or door 3 (respectively) when neither hide the prize.  For example, from watching the show, you may have observed that Monty is at the right of the stage, and appears to be lazy: when he could have chosen either door, he tends to favor the one nearest to him (i.e., $q_3 > q_2$).\n",
    "\n",
    "> *Recalculate the probability table we computed in the lecture, to calculate posterior probabilities that the prize is behind each of the three doors.  As was done in lecture, assume you've initially chosen door 1, and that Monty opens door 3.*\n",
    "\n",
    "| $H$   | P($H_i$) | P($D_3$/$H_i$) | Prior x Likelihood | Posterior               |\n",
    "|-------|----------|----------------|--------------------|-------------------------|\n",
    "| $H_1$ | 1/3      | 1-$q_2$        |  $\\frac{1-q_2}{3}$ | $\\frac{1-q_2}{2-q_2}$   |\n",
    "| $H_2$ | 1/3      | 1              | 1/3                | $\\frac{1}{2-q_2}$       |\n",
    "| $H_3$ | 1/3      | 0              | 0                  | 0                       |"
   ]
  },
  {
   "cell_type": "markdown",
   "metadata": {
    "tags": [
     "problem=3.2",
     "points=1"
    ]
   },
   "source": [
    "### Problem 3.2 — LTP version\n",
    "\n",
    "Consider again the Monte Hall problem as treated in the lecture. We treated the case where you initially chose door 1, and the datum was the proposition, \"Monty opened door 3\" (which we denoted $D_3$).  It's probably obvious to you that the problem has symmetries: that it doesn't matter which door you initially picked, or which of the other doors Monty opened: it's always in your interest to switch.\n",
    "\n",
    "Here, treat the problem in a more symmetric way.  Keep the assumption that you've initially chosen door 1.  But suppose you are trying to come up with a *strategy* for the game, before knowing which door Monty opens (but otherwise knowing all the rules, as specified in the lecture).  Let $W$ denote the proposition, \"I will win by switching to the door Monty does not open.\"  \n",
    "\n",
    "> *Compute $P(W|\\mathcal{C})$ using the law of total probability (LTP) in the \"extend the conversation\" or \"wishful thinking\" version discussed in Lec03.  Pick a set of exclusive, exhaustive propositions (filling the role of the $B_i$ in Lec03) such that, if you knew one of them were true, you could compute $P(W|B_i,\\mathcal{C})$ (use whatever symbol you deem appropriate for $B_i$).  Then use the LTP to account for uncertainty about which of those propositions actually holds.*\n",
    "\n",
    "**Hint:** You should find the same result we found in the specific case treated in class, that the probability for winning if you switch is 2/3.\n",
    "\n",
    "Answer:\n",
    "Define $B_i$ = Monty opens door i.\n",
    "<br>\n",
    "Then, by LTP, $P(W|\\mathcal{C}) = P(W|B_1, \\mathcal{C}) P(B_1|\\mathcal{C})+P(W|B_2, \\mathcal{C}) P(B_2|\\mathcal{C})+P(W|B_3, \\mathcal{C}) P(B_3|\\mathcal{C})$ \n",
    "<br>\n",
    "Again, by LTP, $P(B_i|\\mathcal{C}) = \\sum_{j=1}^{3} P(B_i|D_j, \\mathcal{C})P(D_j|\\mathcal{C})$, where $D_j$ represents the prize is behind door j.\n",
    "<br>\n",
    "\n",
    "$P(B_i|D_j,\\mathcal{C})$ is given by:\n",
    "\n",
    "|       | $B_1$ | $B_2$ | $B_3$ |\n",
    "|-------|-------|-------|-------|\n",
    "| $D_1$ | 0     | 1/2   | 1/2   |\n",
    "| $D_2$ | 0     | 0     | 1     |\n",
    "| $D_3$ | 0     | 1     | 0     |\n",
    "\n",
    "And $P(B_1|\\mathcal{C}) = 0$;\n",
    "<br>\n",
    "$P(B_2|\\mathcal{C}) = P(B_2|D_1, \\mathcal{C})P(D_1|\\mathcal{C})+P(B_2|D_2, \\mathcal{C})P(D_2|\\mathcal{C})+P(B_2|D_3, \\mathcal{C})P(D_3|\\mathcal{C}) = 1/2*1/3+0+1*1/3 = 1/2 = P(B_3|\\mathcal{C})$.\n",
    "<br>\n",
    "Therefore, based on the symmetric property, $P(W|\\mathcal{C}) = 0+2/3*1/2+2/3*1/2 = 2/3$."
   ]
  },
  {
   "cell_type": "markdown",
   "metadata": {
    "tags": [
     "problem=4.1",
     "points=1"
    ]
   },
   "source": [
    "### Problem 4.1:\n",
    "\n",
    "> *Derive the formula given in lecture for the expectation value of $x$, denoted $\\Bbb{E}(x)$ or $\\langle x\\rangle$, in terms of $a$ and $b$, where*\n",
    "$$\n",
    "\\Bbb{E}(x) = \\int dx\\; x \\times {\\rm Beta}(x|a,b).\n",
    "$$\n",
    "\n",
    "Present your derivation in the Jupyter notebook using MathJax LaTeX notation for the math (make sure to also use text to briefly explain your reasoning). \n",
    "\n",
    "Answer:\n",
    "<br>\n",
    "By the definition of Beta function, i.e. $\\int x^{a-1}(1-x)^{b-1}dx=\\frac{\\Gamma{(a)}\\Gamma{(b)}}{\\Gamma{(a+b)}}$.\n",
    "<br>\n",
    "$\\Bbb{E}(x) = \\int dx\\; x \\times {\\rm Beta}(x|a,b) = \\frac{1}{B(a,b)}\\int x^a(1-x)^{b-1}dx = \\frac{B(a+1,b)}{B(a,b)} = \\frac{\\frac{\\Gamma{(a+1)}\\Gamma{(b)}}{\\Gamma{(a+b+1)}}}{\\frac{\\Gamma{(a)}\\Gamma{(b)}}{\\Gamma{(a+b)}}} =\\frac{\\Gamma{(a+1)}\\Gamma{(a+b)}}{\\Gamma{(a+b+1)}\\Gamma{(a)}}$\n",
    "<br>\n",
    "By the property of gamma functions $\\Gamma{(a+1)}=a\\times \\Gamma{(a)}$, we get\n",
    "<br>\n",
    "\n",
    "$\\frac{\\Gamma{(a+1)}\\Gamma{(a+b)}}{\\Gamma{(a+b+1)}\\Gamma{(a)}}=\\frac{a\\times \\Gamma{(a)}\\Gamma{(a+b)}}{(a+b)\\times \\Gamma{(a+b)}\\Gamma{(a)}}=\\frac{a}{a+b}$"
   ]
  },
  {
   "cell_type": "markdown",
   "metadata": {
    "tags": [
     "problem=4.2",
     "points=1"
    ]
   },
   "source": [
    "### Problem 4.2:\n",
    "\n",
    "> *Derive the formula given in lecture for the mode of the beta distribution, $\\hat x$, in terms of $a$ and $b$.  (The mode is the value of $x$ with maximum probability density).*\n",
    "\n",
    "Answer:\n",
    "<br>\n",
    "The maximum can be found by setting the derivative to 0 and solve for x.\n",
    "<br>\n",
    "$\\frac{d}{dx}Beta(x|,b) = \\frac{1}{B(a,b)}\\frac{d}{dx}x^{a-1}(1-x)^{b-1}=\\frac{1}{B(a,b)}[(a-1)x^{(a-2)}(1-x)^{(b-1)}-(b-1)(1-x)^{(b-2)}x^{(a-1)}]=0$\n",
    "\n",
    "<br>\n",
    "Canceling out some terms yields\n",
    "$(a-1)(1-x)=(b-1)x$\n",
    "<br>\n",
    "$(a-1)-(a-1)x=(b-1)x$\n",
    "<br>\n",
    "$x = \\frac{a-1}{(b-1)+(a-1)}$"
   ]
  }
 ],
 "metadata": {
  "celltoolbar": "Tags",
  "kernelspec": {
   "display_name": "Python 3",
   "language": "python",
   "name": "python3"
  },
  "language_info": {
   "codemirror_mode": {
    "name": "ipython",
    "version": 3
   },
   "file_extension": ".py",
   "mimetype": "text/x-python",
   "name": "python",
   "nbconvert_exporter": "python",
   "pygments_lexer": "ipython3",
   "version": "3.7.4"
  }
 },
 "nbformat": 4,
 "nbformat_minor": 1
}
